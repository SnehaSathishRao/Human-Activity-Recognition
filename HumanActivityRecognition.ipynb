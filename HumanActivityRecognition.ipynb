{
 "cells": [
  {
   "cell_type": "markdown",
   "metadata": {},
   "source": [
    "# Human Activity Recognition:"
   ]
  },
  {
   "cell_type": "markdown",
   "metadata": {},
   "source": [
    "# Business Problem:"
   ]
  },
  {
   "cell_type": "markdown",
   "metadata": {},
   "source": [
    "This project is to build a model that predicts the human activities such as Walking, Walking_Upstairs, Walking_Downstairs, Sitting, Standing or Laying."
   ]
  },
  {
   "cell_type": "markdown",
   "metadata": {},
   "source": [
    "# Data : \n",
    "\n",
    "  The experiments have been carried out with a group of 30 volunteers within an age bracket of 19-48 years. Each person performed six activities (WALKING, WALKING_UPSTAIRS, WALKING_DOWNSTAIRS, SITTING, STANDING, LAYING) wearing a smartphone (Samsung Galaxy S II) on the waist. Using its embedded accelerometer and gyroscope, we captured 3-axial linear acceleration and 3-axial angular velocity at a constant rate of 50Hz. The experiments have been video-recorded to label the data manually. The obtained dataset has been randomly partitioned into two sets, where 70% of the volunteers was selected for generating the training data and 30% the test data.\n",
    "\n",
    "  The sensor signals (accelerometer and gyroscope) were pre-processed by applying noise filters and then sampled in fixed-width sliding windows of 2.56 sec and 50% overlap (128 readings/window). The sensor acceleration signal, which has gravitational and body motion components, was separated using a Butterworth low-pass filter into body acceleration and gravity. The gravitational force is assumed to have only low frequency components, therefore a filter with 0.3 Hz cutoff frequency was used. From each window, a vector of features was obtained by calculating variables from the time and frequency domain.\n",
    "\n",
    "# Feature Information :\n",
    "\n",
    "For each record in the dataset it is provided: \n",
    "- Triaxial acceleration from the accelerometer (total acceleration) and the estimated body acceleration. \n",
    "- Triaxial Angular velocity from the gyroscope. \n",
    "- A 561-feature vector with time and frequency domain variables. \n",
    "- Its activity label. \n",
    "- An identifier of the subject who carried out the experiment.\n",
    "\n",
    "# Class Labels: \n",
    "\n",
    "In the dataset, Y_labels are represented as numbers from 1 to 6 as their identifiers.\n",
    "1. WALKING as 1\n",
    "2. WALKING_UPSTAIRS as 2\n",
    "3. WALKING_DOWNSTAIRS as 3\n",
    "4. SITTING as 4\n",
    "5. STANDING as 5\n",
    "6. LAYING as 6"
   ]
  },
  {
   "cell_type": "markdown",
   "metadata": {},
   "source": [
    "# Machine Learning Problem : \n",
    "\n",
    "  It is a Multi-class classification."
   ]
  },
  {
   "cell_type": "markdown",
   "metadata": {},
   "source": [
    "# Load Data : "
   ]
  },
  {
   "cell_type": "code",
   "execution_count": 1,
   "metadata": {},
   "outputs": [],
   "source": [
    "import pandas as pd\n",
    "import numpy as np\n",
    "from matplotlib import pyplot as plt\n",
    "import seaborn as sns"
   ]
  },
  {
   "cell_type": "code",
   "execution_count": 2,
   "metadata": {},
   "outputs": [
    {
     "name": "stderr",
     "output_type": "stream",
     "text": [
      "C:\\Users\\Friend\\Anaconda3\\lib\\site-packages\\ipykernel_launcher.py:23: FutureWarning: Method .as_matrix will be removed in a future version. Use .values instead.\n",
      "C:\\Users\\Friend\\Anaconda3\\lib\\site-packages\\ipykernel_launcher.py:33: FutureWarning: Method .as_matrix will be removed in a future version. Use .values instead.\n"
     ]
    }
   ],
   "source": [
    "SIGNALS = [\n",
    "    \"body_acc_x\",\n",
    "    \"body_acc_y\",\n",
    "    \"body_acc_z\",\n",
    "    \"body_gyro_x\",\n",
    "    \"body_gyro_y\",\n",
    "    \"body_gyro_z\",\n",
    "    \"total_acc_x\",\n",
    "    \"total_acc_y\",\n",
    "    \"total_acc_z\"\n",
    "]\n",
    "\n",
    "def _read_csv(filename):\n",
    "    return pd.read_csv(filename, delim_whitespace=True, header=None)\n",
    "\n",
    "\n",
    "def load_signals(subset):\n",
    "    signals_data = []\n",
    "\n",
    "    for signal in SIGNALS:\n",
    "        filename = f'C:/Users/Friend/AI/AI_datasets/HumanActivityRecognition/{subset}/Inertial Signals/{signal}_{subset}.txt'\n",
    "        signals_data.append(\n",
    "            _read_csv(filename).as_matrix()\n",
    "        )\n",
    "    return np.transpose(signals_data, (1, 2, 0))\n",
    "\n",
    "\n",
    "\n",
    "def load_y(subset):\n",
    "    filename = f'C:/Users/Friend/AI/AI_datasets/HumanActivityRecognition/{subset}/y_{subset}.txt'\n",
    "    y = _read_csv(filename)[0]\n",
    "\n",
    "    return pd.get_dummies(y).as_matrix()\n",
    "\n",
    "\n",
    "def load_data():\n",
    "    X_train, X_test = load_signals('train'), load_signals('test')\n",
    "    y_train, y_test = load_y('train'), load_y('test')\n",
    "\n",
    "    return X_train, X_test, y_train, y_test\n",
    "\n",
    "X_train, X_test, Y_train, Y_test = load_data()"
   ]
  },
  {
   "cell_type": "code",
   "execution_count": 3,
   "metadata": {},
   "outputs": [
    {
     "name": "stdout",
     "output_type": "stream",
     "text": [
      "128\n",
      "9\n",
      "7352\n"
     ]
    }
   ],
   "source": [
    "timesteps = len(X_train[0])\n",
    "input_dim = len(X_train[0][0])\n",
    "n_classes = len(set([tuple(category) for category in Y_train]))\n",
    "\n",
    "print(timesteps)\n",
    "print(input_dim)\n",
    "print(len(X_train))"
   ]
  },
  {
   "cell_type": "markdown",
   "metadata": {},
   "source": [
    "#  Deep Learning Models: "
   ]
  },
  {
   "cell_type": "code",
   "execution_count": 5,
   "metadata": {},
   "outputs": [],
   "source": [
    "ACTIVITIES = {\n",
    "    0: 'WALKING',\n",
    "    1: 'WALKING_UPSTAIRS',\n",
    "    2: 'WALKING_DOWNSTAIRS',\n",
    "    3: 'SITTING',\n",
    "    4: 'STANDING',\n",
    "    5: 'LAYING',\n",
    "}"
   ]
  },
  {
   "cell_type": "code",
   "execution_count": 6,
   "metadata": {},
   "outputs": [],
   "source": [
    "def confusion_matrix(Y_true, Y_pred):\n",
    "    Y_true = pd.Series([ACTIVITIES[y] for y in np.argmax(Y_true, axis=1)])\n",
    "    Y_pred = pd.Series([ACTIVITIES[y] for y in np.argmax(Y_pred, axis=1)])\n",
    "\n",
    "    return pd.crosstab(Y_true, Y_pred, rownames=['True'], colnames=['Pred'])"
   ]
  },
  {
   "cell_type": "code",
   "execution_count": 7,
   "metadata": {},
   "outputs": [
    {
     "name": "stderr",
     "output_type": "stream",
     "text": [
      "C:\\Users\\Friend\\Anaconda3\\lib\\site-packages\\h5py\\__init__.py:36: FutureWarning: Conversion of the second argument of issubdtype from `float` to `np.floating` is deprecated. In future, it will be treated as `np.float64 == np.dtype(float).type`.\n",
      "  from ._conv import register_converters as _register_converters\n"
     ]
    }
   ],
   "source": [
    "np.random.seed(42)\n",
    "import tensorflow as tf\n",
    "tf.set_random_seed(42)"
   ]
  },
  {
   "cell_type": "code",
   "execution_count": 8,
   "metadata": {},
   "outputs": [
    {
     "name": "stderr",
     "output_type": "stream",
     "text": [
      "Using TensorFlow backend.\n"
     ]
    }
   ],
   "source": [
    "session_conf = tf.ConfigProto(\n",
    "    intra_op_parallelism_threads=1,\n",
    "    inter_op_parallelism_threads=1\n",
    ")\n",
    "\n",
    "from keras import backend as K\n",
    "sess = tf.Session(graph=tf.get_default_graph(), config=session_conf)\n",
    "K.set_session(sess)"
   ]
  },
  {
   "cell_type": "code",
   "execution_count": 9,
   "metadata": {},
   "outputs": [],
   "source": [
    "from keras.models import Sequential\n",
    "from keras.layers import LSTM\n",
    "from keras.layers.core import Dense, Dropout"
   ]
  },
  {
   "cell_type": "markdown",
   "metadata": {},
   "source": [
    "# LSTM with 1 hidden Layer: "
   ]
  },
  {
   "cell_type": "code",
   "execution_count": 15,
   "metadata": {},
   "outputs": [],
   "source": [
    "def plt_dynamic(x, vy, ty, ax, colors=['b']):\n",
    "    ax.plot(x, vy, 'b', label=\"Validation Loss\")\n",
    "    ax.plot(x, ty, 'r', label=\"Train Loss\")\n",
    "    plt.legend()\n",
    "    plt.grid()\n",
    "    fig.canvas.draw()"
   ]
  },
  {
   "cell_type": "code",
   "execution_count": 10,
   "metadata": {},
   "outputs": [],
   "source": [
    "epochs = 30\n",
    "batch_size = 16\n",
    "n_hidden = 32"
   ]
  },
  {
   "cell_type": "code",
   "execution_count": 11,
   "metadata": {},
   "outputs": [
    {
     "name": "stdout",
     "output_type": "stream",
     "text": [
      "_________________________________________________________________\n",
      "Layer (type)                 Output Shape              Param #   \n",
      "=================================================================\n",
      "lstm_1 (LSTM)                (None, 32)                5376      \n",
      "_________________________________________________________________\n",
      "dropout_1 (Dropout)          (None, 32)                0         \n",
      "_________________________________________________________________\n",
      "dense_1 (Dense)              (None, 6)                 198       \n",
      "=================================================================\n",
      "Total params: 5,574\n",
      "Trainable params: 5,574\n",
      "Non-trainable params: 0\n",
      "_________________________________________________________________\n"
     ]
    }
   ],
   "source": [
    "model1 = Sequential()\n",
    "model1.add(LSTM(n_hidden, input_shape=(timesteps, input_dim)))\n",
    "model1.add(Dropout(0.5))\n",
    "model1.add(Dense(n_classes, activation='sigmoid'))\n",
    "model1.summary()"
   ]
  },
  {
   "cell_type": "code",
   "execution_count": 12,
   "metadata": {},
   "outputs": [
    {
     "name": "stdout",
     "output_type": "stream",
     "text": [
      "Train on 7352 samples, validate on 2947 samples\n",
      "Epoch 1/30\n",
      "7352/7352 [==============================] - 59s 8ms/step - loss: 1.3139 - acc: 0.4358 - val_loss: 1.1352 - val_acc: 0.4700\n",
      "Epoch 2/30\n",
      "7352/7352 [==============================] - 59s 8ms/step - loss: 0.9788 - acc: 0.5773 - val_loss: 0.9513 - val_acc: 0.5884\n",
      "Epoch 3/30\n",
      "7352/7352 [==============================] - 59s 8ms/step - loss: 0.7977 - acc: 0.6457 - val_loss: 0.8343 - val_acc: 0.6013\n",
      "Epoch 4/30\n",
      "7352/7352 [==============================] - 59s 8ms/step - loss: 0.6989 - acc: 0.6582 - val_loss: 0.7532 - val_acc: 0.6098\n",
      "Epoch 5/30\n",
      "7352/7352 [==============================] - 59s 8ms/step - loss: 0.6359 - acc: 0.6797 - val_loss: 0.7335 - val_acc: 0.6183\n",
      "Epoch 6/30\n",
      "7352/7352 [==============================] - 58s 8ms/step - loss: 0.5819 - acc: 0.6865 - val_loss: 0.8786 - val_acc: 0.6098\n",
      "Epoch 7/30\n",
      "7352/7352 [==============================] - 58s 8ms/step - loss: 0.5676 - acc: 0.7058 - val_loss: 0.8191 - val_acc: 0.6132\n",
      "Epoch 8/30\n",
      "7352/7352 [==============================] - 58s 8ms/step - loss: 0.5583 - acc: 0.7217 - val_loss: 0.6639 - val_acc: 0.7190\n",
      "Epoch 9/30\n",
      "7352/7352 [==============================] - 57s 8ms/step - loss: 0.5386 - acc: 0.7557 - val_loss: 0.6388 - val_acc: 0.7167\n",
      "Epoch 10/30\n",
      "7352/7352 [==============================] - 31s 4ms/step - loss: 0.4804 - acc: 0.7911 - val_loss: 0.5077 - val_acc: 0.7509\n",
      "Epoch 11/30\n",
      "7352/7352 [==============================] - 31s 4ms/step - loss: 0.4320 - acc: 0.8052 - val_loss: 0.5143 - val_acc: 0.7418\n",
      "Epoch 12/30\n",
      "7352/7352 [==============================] - 31s 4ms/step - loss: 0.4279 - acc: 0.8062 - val_loss: 0.4951 - val_acc: 0.7472\n",
      "Epoch 13/30\n",
      "7352/7352 [==============================] - 31s 4ms/step - loss: 0.3911 - acc: 0.8130 - val_loss: 0.5606 - val_acc: 0.7516\n",
      "Epoch 14/30\n",
      "7352/7352 [==============================] - 31s 4ms/step - loss: 0.3898 - acc: 0.8313 - val_loss: 0.4518 - val_acc: 0.8137\n",
      "Epoch 15/30\n",
      "7352/7352 [==============================] - 31s 4ms/step - loss: 0.3308 - acc: 0.8942 - val_loss: 0.4732 - val_acc: 0.8633\n",
      "Epoch 16/30\n",
      "7352/7352 [==============================] - 31s 4ms/step - loss: 0.2891 - acc: 0.9176 - val_loss: 0.3794 - val_acc: 0.8765\n",
      "Epoch 17/30\n",
      "7352/7352 [==============================] - 31s 4ms/step - loss: 0.2660 - acc: 0.9246 - val_loss: 0.5082 - val_acc: 0.8660\n",
      "Epoch 18/30\n",
      "7352/7352 [==============================] - 31s 4ms/step - loss: 0.2538 - acc: 0.9251 - val_loss: 0.4772 - val_acc: 0.8806\n",
      "Epoch 19/30\n",
      "7352/7352 [==============================] - 31s 4ms/step - loss: 0.2502 - acc: 0.9312 - val_loss: 0.7013 - val_acc: 0.8307\n",
      "Epoch 20/30\n",
      "7352/7352 [==============================] - 31s 4ms/step - loss: 0.1980 - acc: 0.9382 - val_loss: 0.3988 - val_acc: 0.8890\n",
      "Epoch 21/30\n",
      "7352/7352 [==============================] - 31s 4ms/step - loss: 0.2018 - acc: 0.9372 - val_loss: 1.7682 - val_acc: 0.7075\n",
      "Epoch 22/30\n",
      "7352/7352 [==============================] - 31s 4ms/step - loss: 0.2455 - acc: 0.9310 - val_loss: 0.5812 - val_acc: 0.8687\n",
      "Epoch 23/30\n",
      "7352/7352 [==============================] - 31s 4ms/step - loss: 0.2194 - acc: 0.9329 - val_loss: 0.6468 - val_acc: 0.8744\n",
      "Epoch 24/30\n",
      "7352/7352 [==============================] - 31s 4ms/step - loss: 0.2282 - acc: 0.9304 - val_loss: 0.4721 - val_acc: 0.8741\n",
      "Epoch 25/30\n",
      "7352/7352 [==============================] - 31s 4ms/step - loss: 0.2166 - acc: 0.9359 - val_loss: 0.4131 - val_acc: 0.8938\n",
      "Epoch 26/30\n",
      "7352/7352 [==============================] - 32s 4ms/step - loss: 0.2173 - acc: 0.9350 - val_loss: 0.4841 - val_acc: 0.8887\n",
      "Epoch 27/30\n",
      "7352/7352 [==============================] - 31s 4ms/step - loss: 0.2224 - acc: 0.9353 - val_loss: 0.3590 - val_acc: 0.8935\n",
      "Epoch 28/30\n",
      "7352/7352 [==============================] - 31s 4ms/step - loss: 0.1961 - acc: 0.9385 - val_loss: 0.5297 - val_acc: 0.8802\n",
      "Epoch 29/30\n",
      "7352/7352 [==============================] - 31s 4ms/step - loss: 0.1876 - acc: 0.9416 - val_loss: 0.4324 - val_acc: 0.8924\n",
      "Epoch 30/30\n",
      "7352/7352 [==============================] - 31s 4ms/step - loss: 0.1999 - acc: 0.9411 - val_loss: 0.4883 - val_acc: 0.8829\n"
     ]
    }
   ],
   "source": [
    "model1.compile(loss='categorical_crossentropy',optimizer='rmsprop',metrics=['accuracy'])\n",
    "history = model1.fit(X_train,Y_train,batch_size=batch_size,validation_data=(X_test, Y_test),epochs=epochs)"
   ]
  },
  {
   "cell_type": "code",
   "execution_count": 13,
   "metadata": {},
   "outputs": [
    {
     "name": "stdout",
     "output_type": "stream",
     "text": [
      "Pred                LAYING  SITTING  STANDING  WALKING  WALKING_DOWNSTAIRS  \\\n",
      "True                                                                         \n",
      "LAYING                 537        0         0        0                   0   \n",
      "SITTING                  0      383       108        0                   0   \n",
      "STANDING                 0       99       432        1                   0   \n",
      "WALKING                  0        0         0      472                  23   \n",
      "WALKING_DOWNSTAIRS       0        0         0       27                 381   \n",
      "WALKING_UPSTAIRS         0        0         1       61                  12   \n",
      "\n",
      "Pred                WALKING_UPSTAIRS  \n",
      "True                                  \n",
      "LAYING                             0  \n",
      "SITTING                            0  \n",
      "STANDING                           0  \n",
      "WALKING                            1  \n",
      "WALKING_DOWNSTAIRS                12  \n",
      "WALKING_UPSTAIRS                 397  \n"
     ]
    }
   ],
   "source": [
    "print(confusion_matrix(Y_test, model1.predict(X_test)))"
   ]
  },
  {
   "cell_type": "code",
   "execution_count": 16,
   "metadata": {},
   "outputs": [
    {
     "name": "stdout",
     "output_type": "stream",
     "text": [
      "2947/2947 [==============================] - 1s 420us/step\n",
      "Test score: 0.48826993001486146\n",
      "Test accuracy: 0.8829317950458093\n"
     ]
    },
    {
     "data": {
      "image/png": "[encoded data removed]",
      "text/plain": [
       "<Figure size 432x288 with 1 Axes>"
      ]
     },
     "metadata": {},
     "output_type": "display_data"
    }
   ],
   "source": [
    "score1 = model1.evaluate(X_test, Y_test)\n",
    "\n",
    "print('Test score:', score1[0]) \n",
    "print('Test accuracy:', score1[1])\n",
    "\n",
    "fig,ax = plt.subplots(1,1)\n",
    "ax.set_xlabel('epoch')\n",
    "ax.set_ylabel('Categorical Crossentropy Loss')\n",
    "\n",
    "x = list(range(1,epochs+1))\n",
    "vy = history.history['val_loss']\n",
    "ty = history.history['loss']\n",
    "\n",
    "plt_dynamic(x, vy, ty, ax)"
   ]
  },
  {
   "cell_type": "markdown",
   "metadata": {},
   "source": [
    "# LSTM with 2 hidden Layers: "
   ]
  },
  {
   "cell_type": "code",
   "execution_count": 17,
   "metadata": {},
   "outputs": [],
   "source": [
    "epochs = 30\n",
    "batch_size = 16"
   ]
  },
  {
   "cell_type": "markdown",
   "metadata": {},
   "source": [
    "# Hidden Layers = 32,Drop-out = 0.6"
   ]
  },
  {
   "cell_type": "code",
   "execution_count": 18,
   "metadata": {},
   "outputs": [
    {
     "name": "stdout",
     "output_type": "stream",
     "text": [
      "_________________________________________________________________\n",
      "Layer (type)                 Output Shape              Param #   \n",
      "=================================================================\n",
      "lstm_2 (LSTM)                (None, 128, 32)           5376      \n",
      "_________________________________________________________________\n",
      "dropout_2 (Dropout)          (None, 128, 32)           0         \n",
      "_________________________________________________________________\n",
      "lstm_3 (LSTM)                (None, 32)                8320      \n",
      "_________________________________________________________________\n",
      "dropout_3 (Dropout)          (None, 32)                0         \n",
      "_________________________________________________________________\n",
      "dense_2 (Dense)              (None, 6)                 198       \n",
      "=================================================================\n",
      "Total params: 13,894\n",
      "Trainable params: 13,894\n",
      "Non-trainable params: 0\n",
      "_________________________________________________________________\n"
     ]
    }
   ],
   "source": [
    "n_hidden = 32\n",
    "model2 = Sequential()\n",
    "model2.add(LSTM(n_hidden,return_sequences=True,input_shape=(timesteps, input_dim)))\n",
    "model2.add(Dropout(0.6))\n",
    "model2.add(LSTM(n_hidden))\n",
    "model2.add(Dropout(0.6))\n",
    "model2.add(Dense(n_classes, activation='sigmoid'))\n",
    "model2.summary()"
   ]
  },
  {
   "cell_type": "code",
   "execution_count": 19,
   "metadata": {},
   "outputs": [
    {
     "name": "stdout",
     "output_type": "stream",
     "text": [
      "Train on 7352 samples, validate on 2947 samples\n",
      "Epoch 1/30\n",
      "7352/7352 [==============================] - 71s 10ms/step - loss: 1.1998 - acc: 0.5178 - val_loss: 0.8683 - val_acc: 0.6440\n",
      "Epoch 2/30\n",
      "7352/7352 [==============================] - 67s 9ms/step - loss: 0.8431 - acc: 0.6272 - val_loss: 0.8084 - val_acc: 0.6152\n",
      "Epoch 3/30\n",
      "7352/7352 [==============================] - 67s 9ms/step - loss: 0.7142 - acc: 0.6974 - val_loss: 0.7453 - val_acc: 0.7017\n",
      "Epoch 4/30\n",
      "7352/7352 [==============================] - 67s 9ms/step - loss: 0.6332 - acc: 0.7550 - val_loss: 0.7667 - val_acc: 0.7133\n",
      "Epoch 5/30\n",
      "7352/7352 [==============================] - 67s 9ms/step - loss: 0.5030 - acc: 0.8192 - val_loss: 0.6905 - val_acc: 0.8083\n",
      "Epoch 6/30\n",
      "7352/7352 [==============================] - 67s 9ms/step - loss: 0.3889 - acc: 0.8886 - val_loss: 0.5145 - val_acc: 0.8375\n",
      "Epoch 7/30\n",
      "7352/7352 [==============================] - 70s 9ms/step - loss: 0.3122 - acc: 0.9140 - val_loss: 0.3979 - val_acc: 0.8738\n",
      "Epoch 8/30\n",
      "7352/7352 [==============================] - 67s 9ms/step - loss: 0.2692 - acc: 0.9210 - val_loss: 0.4323 - val_acc: 0.8548\n",
      "Epoch 9/30\n",
      "7352/7352 [==============================] - 67s 9ms/step - loss: 0.2410 - acc: 0.9270 - val_loss: 0.3913 - val_acc: 0.8856\n",
      "Epoch 10/30\n",
      "7352/7352 [==============================] - 69s 9ms/step - loss: 0.2277 - acc: 0.9319 - val_loss: 0.4148 - val_acc: 0.8812\n",
      "Epoch 11/30\n",
      "7352/7352 [==============================] - 69s 9ms/step - loss: 0.2177 - acc: 0.9361 - val_loss: 0.3436 - val_acc: 0.8996\n",
      "Epoch 12/30\n",
      "7352/7352 [==============================] - 69s 9ms/step - loss: 0.2141 - acc: 0.9354 - val_loss: 0.3392 - val_acc: 0.8958\n",
      "Epoch 13/30\n",
      "7352/7352 [==============================] - 73s 10ms/step - loss: 0.1982 - acc: 0.9374 - val_loss: 0.3516 - val_acc: 0.8935\n",
      "Epoch 14/30\n",
      "7352/7352 [==============================] - 74s 10ms/step - loss: 0.1896 - acc: 0.9366 - val_loss: 0.3772 - val_acc: 0.9009\n",
      "Epoch 15/30\n",
      "7352/7352 [==============================] - 69s 9ms/step - loss: 0.1810 - acc: 0.9387 - val_loss: 0.4502 - val_acc: 0.8928\n",
      "Epoch 16/30\n",
      "7352/7352 [==============================] - 69s 9ms/step - loss: 0.1759 - acc: 0.9404 - val_loss: 0.4150 - val_acc: 0.8856\n",
      "Epoch 17/30\n",
      "7352/7352 [==============================] - 72s 10ms/step - loss: 0.1610 - acc: 0.9446 - val_loss: 0.4530 - val_acc: 0.8955\n",
      "Epoch 18/30\n",
      "7352/7352 [==============================] - 69s 9ms/step - loss: 0.1798 - acc: 0.9422 - val_loss: 0.4135 - val_acc: 0.9046\n",
      "Epoch 19/30\n",
      "7352/7352 [==============================] - 73s 10ms/step - loss: 0.1635 - acc: 0.9426 - val_loss: 0.4349 - val_acc: 0.8962\n",
      "Epoch 20/30\n",
      "7352/7352 [==============================] - 71s 10ms/step - loss: 0.1551 - acc: 0.9448 - val_loss: 0.4900 - val_acc: 0.9036\n",
      "Epoch 21/30\n",
      "7352/7352 [==============================] - 72s 10ms/step - loss: 0.1634 - acc: 0.9465 - val_loss: 0.4723 - val_acc: 0.8968\n",
      "Epoch 22/30\n",
      "7352/7352 [==============================] - 74s 10ms/step - loss: 0.1568 - acc: 0.9467 - val_loss: 0.4645 - val_acc: 0.9019\n",
      "Epoch 23/30\n",
      "7352/7352 [==============================] - 78s 11ms/step - loss: 0.1626 - acc: 0.9450 - val_loss: 0.4054 - val_acc: 0.9111\n",
      "Epoch 24/30\n",
      "7352/7352 [==============================] - 69s 9ms/step - loss: 0.1697 - acc: 0.9460 - val_loss: 0.3771 - val_acc: 0.9121\n",
      "Epoch 25/30\n",
      "7352/7352 [==============================] - 67s 9ms/step - loss: 0.1607 - acc: 0.9480 - val_loss: 0.3994 - val_acc: 0.9036\n",
      "Epoch 26/30\n",
      "7352/7352 [==============================] - 69s 9ms/step - loss: 0.1528 - acc: 0.9478 - val_loss: 0.5350 - val_acc: 0.8996\n",
      "Epoch 27/30\n",
      "7352/7352 [==============================] - 69s 9ms/step - loss: 0.1558 - acc: 0.9459 - val_loss: 0.6854 - val_acc: 0.8877\n",
      "Epoch 28/30\n",
      "7352/7352 [==============================] - 71s 10ms/step - loss: 0.1622 - acc: 0.9491 - val_loss: 0.5923 - val_acc: 0.8996\n",
      "Epoch 29/30\n",
      "7352/7352 [==============================] - 67s 9ms/step - loss: 0.1595 - acc: 0.9484 - val_loss: 0.6690 - val_acc: 0.8999\n",
      "Epoch 30/30\n",
      "7352/7352 [==============================] - 68s 9ms/step - loss: 0.1739 - acc: 0.9408 - val_loss: 0.5948 - val_acc: 0.8992\n"
     ]
    }
   ],
   "source": [
    "model2.compile(loss='categorical_crossentropy',optimizer='rmsprop',metrics=['accuracy'])\n",
    "history = model2.fit(X_train,Y_train,batch_size=batch_size,validation_data=(X_test, Y_test),epochs=epochs)"
   ]
  },
  {
   "cell_type": "code",
   "execution_count": 20,
   "metadata": {
    "scrolled": true
   },
   "outputs": [
    {
     "name": "stdout",
     "output_type": "stream",
     "text": [
      "Pred                LAYING  SITTING  STANDING  WALKING  WALKING_DOWNSTAIRS  \\\n",
      "True                                                                         \n",
      "LAYING                 510        0         0        0                   0   \n",
      "SITTING                  0      409        73        6                   0   \n",
      "STANDING                 0       94       437        1                   0   \n",
      "WALKING                  0        0         0      467                   2   \n",
      "WALKING_DOWNSTAIRS       0        0         0       12                 371   \n",
      "WALKING_UPSTAIRS         0        0         0       15                   0   \n",
      "\n",
      "Pred                WALKING_UPSTAIRS  \n",
      "True                                  \n",
      "LAYING                            27  \n",
      "SITTING                            3  \n",
      "STANDING                           0  \n",
      "WALKING                           27  \n",
      "WALKING_DOWNSTAIRS                37  \n",
      "WALKING_UPSTAIRS                 456  \n"
     ]
    }
   ],
   "source": [
    "print(confusion_matrix(Y_test, model2.predict(X_test)))"
   ]
  },
  {
   "cell_type": "code",
   "execution_count": 21,
   "metadata": {},
   "outputs": [
    {
     "name": "stdout",
     "output_type": "stream",
     "text": [
      "2947/2947 [==============================] - 3s 967us/step\n",
      "Test score: 0.5947882716293358\n",
      "Test accuracy: 0.8992195453003053\n"
     ]
    },
    {
     "data": {
      "image/png": "[encoded data removed]",
      "text/plain": [
       "<Figure size 432x288 with 1 Axes>"
      ]
     },
     "metadata": {},
     "output_type": "display_data"
    }
   ],
   "source": [
    "score2 = model2.evaluate(X_test, Y_test)\n",
    "\n",
    "print('Test score:', score2[0]) \n",
    "print('Test accuracy:', score2[1])\n",
    "\n",
    "fig,ax = plt.subplots(1,1)\n",
    "ax.set_xlabel('epoch')\n",
    "ax.set_ylabel('Categorical Crossentropy Loss')\n",
    "\n",
    "x = list(range(1,epochs+1))\n",
    "vy = history.history['val_loss']\n",
    "ty = history.history['loss']\n",
    "\n",
    "plt_dynamic(x, vy, ty, ax)"
   ]
  },
  {
   "cell_type": "markdown",
   "metadata": {},
   "source": [
    "# Hidden Layers = 64,Drop-out = 0.6"
   ]
  },
  {
   "cell_type": "code",
   "execution_count": 22,
   "metadata": {},
   "outputs": [
    {
     "name": "stdout",
     "output_type": "stream",
     "text": [
      "_________________________________________________________________\n",
      "Layer (type)                 Output Shape              Param #   \n",
      "=================================================================\n",
      "lstm_4 (LSTM)                (None, 128, 64)           18944     \n",
      "_________________________________________________________________\n",
      "dropout_4 (Dropout)          (None, 128, 64)           0         \n",
      "_________________________________________________________________\n",
      "lstm_5 (LSTM)                (None, 64)                33024     \n",
      "_________________________________________________________________\n",
      "dropout_5 (Dropout)          (None, 64)                0         \n",
      "_________________________________________________________________\n",
      "dense_3 (Dense)              (None, 6)                 390       \n",
      "=================================================================\n",
      "Total params: 52,358\n",
      "Trainable params: 52,358\n",
      "Non-trainable params: 0\n",
      "_________________________________________________________________\n"
     ]
    }
   ],
   "source": [
    "n_hidden = 64\n",
    "drop_out = 0.6\n",
    "model3 = Sequential()\n",
    "model3.add(LSTM(n_hidden,return_sequences=True,input_shape=(timesteps, input_dim)))\n",
    "model3.add(Dropout(drop_out))\n",
    "model3.add(LSTM(n_hidden))\n",
    "model3.add(Dropout(drop_out))\n",
    "model3.add(Dense(n_classes, activation='sigmoid'))\n",
    "model3.summary()"
   ]
  },
  {
   "cell_type": "code",
   "execution_count": 23,
   "metadata": {
    "scrolled": false
   },
   "outputs": [
    {
     "name": "stdout",
     "output_type": "stream",
     "text": [
      "Train on 7352 samples, validate on 2947 samples\n",
      "Epoch 1/30\n",
      "7352/7352 [==============================] - 99s 13ms/step - loss: 1.1031 - acc: 0.5199 - val_loss: 1.0280 - val_acc: 0.5667\n",
      "Epoch 2/30\n",
      "7352/7352 [==============================] - 95s 13ms/step - loss: 0.7983 - acc: 0.6495 - val_loss: 0.7187 - val_acc: 0.6932\n",
      "Epoch 3/30\n",
      "7352/7352 [==============================] - 95s 13ms/step - loss: 0.6560 - acc: 0.7171 - val_loss: 0.6754 - val_acc: 0.7177\n",
      "Epoch 4/30\n",
      "7352/7352 [==============================] - 98s 13ms/step - loss: 0.5287 - acc: 0.7643 - val_loss: 0.5936 - val_acc: 0.7472\n",
      "Epoch 5/30\n",
      "7352/7352 [==============================] - 98s 13ms/step - loss: 0.4408 - acc: 0.8017 - val_loss: 0.5514 - val_acc: 0.7947\n",
      "Epoch 6/30\n",
      "7352/7352 [==============================] - 92s 13ms/step - loss: 0.3725 - acc: 0.8645 - val_loss: 0.4454 - val_acc: 0.8395\n",
      "Epoch 7/30\n",
      "7352/7352 [==============================] - 93s 13ms/step - loss: 0.2395 - acc: 0.9232 - val_loss: 0.6714 - val_acc: 0.8191\n",
      "Epoch 8/30\n",
      "7352/7352 [==============================] - 89s 12ms/step - loss: 0.1972 - acc: 0.9391 - val_loss: 0.4554 - val_acc: 0.8931\n",
      "Epoch 9/30\n",
      "7352/7352 [==============================] - 95s 13ms/step - loss: 0.1826 - acc: 0.9418 - val_loss: 0.4027 - val_acc: 0.8968\n",
      "Epoch 10/30\n",
      "7352/7352 [==============================] - 100s 14ms/step - loss: 0.1937 - acc: 0.9336 - val_loss: 0.3139 - val_acc: 0.90570s  - ETA: 4s - l\n",
      "Epoch 11/30\n",
      "7352/7352 [==============================] - 94s 13ms/step - loss: 0.1687 - acc: 0.9406 - val_loss: 0.3432 - val_acc: 0.9165\n",
      "Epoch 12/30\n",
      "7352/7352 [==============================] - 94s 13ms/step - loss: 0.1517 - acc: 0.9486 - val_loss: 0.3941 - val_acc: 0.912513s - loss: 0.148 - E\n",
      "Epoch 13/30\n",
      "7352/7352 [==============================] - 92s 13ms/step - loss: 0.1387 - acc: 0.9490 - val_loss: 0.5433 - val_acc: 0.9111o - ETA: 1s - loss: 0.1400 - acc: 0. - ETA: 0s - loss: 0.1393 - acc: 0\n",
      "Epoch 14/30\n",
      "7352/7352 [==============================] - 94s 13ms/step - loss: 0.1552 - acc: 0.9475 - val_loss: 0.7033 - val_acc: 0.8935\n",
      "Epoch 15/30\n",
      "7352/7352 [==============================] - 91s 12ms/step - loss: 0.1694 - acc: 0.9455 - val_loss: 0.5474 - val_acc: 0.90601s - loss: 0.1698 - acc\n",
      "Epoch 16/30\n",
      "7352/7352 [==============================] - 92s 13ms/step - loss: 0.1610 - acc: 0.9455 - val_loss: 0.5640 - val_acc: 0.9030\n",
      "Epoch 17/30\n",
      "7352/7352 [==============================] - 90s 12ms/step - loss: 0.1451 - acc: 0.9498 - val_loss: 0.7351 - val_acc: 0.8785\n",
      "Epoch 18/30\n",
      "7352/7352 [==============================] - 89s 12ms/step - loss: 0.1484 - acc: 0.9484 - val_loss: 0.5413 - val_acc: 0.8904TA: 10 - ETA: 5s - loss: 0.1 - ETA: 2s - loss: 0.14\n",
      "Epoch 19/30\n",
      "7352/7352 [==============================] - 91s 12ms/step - loss: 0.1435 - acc: 0.9474 - val_loss: 0.5694 - val_acc: 0.9172: 0.1417 - - ETA: 13s - loss - ETA: 11s - loss: 0.14 - ETA: 2s - loss: 0.1426 -\n",
      "Epoch 20/30\n",
      "7352/7352 [==============================] - 101s 14ms/step - loss: 0.1375 - acc: 0.9478 - val_loss: 0.5936 - val_acc: 0.9087\n",
      "Epoch 21/30\n",
      "7352/7352 [==============================] - 90s 12ms/step - loss: 0.1374 - acc: 0.9487 - val_loss: 0.5314 - val_acc: 0.9016\n",
      "Epoch 22/30\n",
      "7352/7352 [==============================] - 88s 12ms/step - loss: 0.1420 - acc: 0.9459 - val_loss: 0.5950 - val_acc: 0.9002\n",
      "Epoch 23/30\n",
      "7352/7352 [==============================] - 93s 13ms/step - loss: 0.1491 - acc: 0.9453 - val_loss: 0.7254 - val_acc: 0.8904\n",
      "Epoch 24/30\n",
      "7352/7352 [==============================] - 97s 13ms/step - loss: 0.1488 - acc: 0.9455 - val_loss: 0.5331 - val_acc: 0.9019\n",
      "Epoch 25/30\n",
      "7352/7352 [==============================] - 92s 13ms/step - loss: 0.1391 - acc: 0.9516 - val_loss: 0.7242 - val_acc: 0.8802\n",
      "Epoch 26/30\n",
      "7352/7352 [==============================] - 87s 12ms/step - loss: 0.1359 - acc: 0.9471 - val_loss: 0.5849 - val_acc: 0.9155\n",
      "Epoch 27/30\n",
      "7352/7352 [==============================] - 88s 12ms/step - loss: 0.2542 - acc: 0.9325 - val_loss: 0.5843 - val_acc: 0.90530.2582\n",
      "Epoch 28/30\n",
      "7352/7352 [==============================] - 89s 12ms/step - loss: 0.1272 - acc: 0.9532 - val_loss: 0.6856 - val_acc: 0.9026 - ETA: 0s - loss: 0.1273 - acc: 0.953\n",
      "Epoch 29/30\n",
      "7352/7352 [==============================] - 136s 19ms/step - loss: 0.1242 - acc: 0.9557 - val_loss: 0.6369 - val_acc: 0.9006\n",
      "Epoch 30/30\n",
      "7352/7352 [==============================] - 168s 23ms/step - loss: 0.1446 - acc: 0.9490 - val_loss: 0.6064 - val_acc: 0.9002\n"
     ]
    },
    {
     "data": {
      "text/plain": [
       "<keras.callbacks.History at 0x2b412ae4d30>"
      ]
     },
     "execution_count": 23,
     "metadata": {},
     "output_type": "execute_result"
    }
   ],
   "source": [
    "model3.compile(loss='categorical_crossentropy',optimizer='rmsprop',metrics=['accuracy'])\n",
    "model3.fit(X_train,Y_train,batch_size=batch_size,validation_data=(X_test, Y_test),epochs=epochs)"
   ]
  },
  {
   "cell_type": "code",
   "execution_count": 24,
   "metadata": {
    "scrolled": true
   },
   "outputs": [
    {
     "name": "stdout",
     "output_type": "stream",
     "text": [
      "Pred                LAYING  SITTING  STANDING  WALKING  WALKING_DOWNSTAIRS  \\\n",
      "True                                                                         \n",
      "LAYING                 497        0        27        0                  12   \n",
      "SITTING                  2      354       135        0                   0   \n",
      "STANDING                 0       54       478        0                   0   \n",
      "WALKING                  0        1         1      460                  14   \n",
      "WALKING_DOWNSTAIRS       0        0         0        0                 419   \n",
      "WALKING_UPSTAIRS         0       12         0        4                  10   \n",
      "\n",
      "Pred                WALKING_UPSTAIRS  \n",
      "True                                  \n",
      "LAYING                             1  \n",
      "SITTING                            0  \n",
      "STANDING                           0  \n",
      "WALKING                           20  \n",
      "WALKING_DOWNSTAIRS                 1  \n",
      "WALKING_UPSTAIRS                 445  \n"
     ]
    }
   ],
   "source": [
    "print(confusion_matrix(Y_test, model3.predict(X_test)))"
   ]
  },
  {
   "cell_type": "code",
   "execution_count": 27,
   "metadata": {},
   "outputs": [
    {
     "name": "stdout",
     "output_type": "stream",
     "text": [
      "2947/2947 [==============================] - 9s 3ms/step\n",
      "Test score: 0.6063831242102351\n",
      "Test accuracy: 0.9002375296912114\n"
     ]
    },
    {
     "data": {
      "image/png": "[encoded data removed]",
      "text/plain": [
       "<Figure size 432x288 with 1 Axes>"
      ]
     },
     "metadata": {},
     "output_type": "display_data"
    }
   ],
   "source": [
    "score3 = model3.evaluate(X_test, Y_test)\n",
    "\n",
    "print('Test score:', score3[0]) \n",
    "print('Test accuracy:', score3[1])\n",
    "\n",
    "fig,ax = plt.subplots(1,1)\n",
    "ax.set_xlabel('epoch')\n",
    "ax.set_ylabel('Categorical Crossentropy Loss')\n",
    "\n",
    "x = list(range(1,epochs+1))\n",
    "vy = history.history['val_loss']\n",
    "ty = history.history['loss']\n",
    "\n",
    "plt_dynamic(x, vy, ty, ax)"
   ]
  },
  {
   "cell_type": "markdown",
   "metadata": {},
   "source": [
    "# Hidden Layers = 32,Drop-out = 0.8"
   ]
  },
  {
   "cell_type": "code",
   "execution_count": 28,
   "metadata": {},
   "outputs": [
    {
     "name": "stdout",
     "output_type": "stream",
     "text": [
      "_________________________________________________________________\n",
      "Layer (type)                 Output Shape              Param #   \n",
      "=================================================================\n",
      "lstm_6 (LSTM)                (None, 128, 32)           5376      \n",
      "_________________________________________________________________\n",
      "dropout_6 (Dropout)          (None, 128, 32)           0         \n",
      "_________________________________________________________________\n",
      "lstm_7 (LSTM)                (None, 32)                8320      \n",
      "_________________________________________________________________\n",
      "dropout_7 (Dropout)          (None, 32)                0         \n",
      "_________________________________________________________________\n",
      "dense_4 (Dense)              (None, 6)                 198       \n",
      "=================================================================\n",
      "Total params: 13,894\n",
      "Trainable params: 13,894\n",
      "Non-trainable params: 0\n",
      "_________________________________________________________________\n"
     ]
    }
   ],
   "source": [
    "n_hidden = 32\n",
    "drop_out = 0.8\n",
    "model4 = Sequential()\n",
    "model4.add(LSTM(n_hidden,return_sequences=True,input_shape=(timesteps, input_dim)))\n",
    "model4.add(Dropout(drop_out))\n",
    "model4.add(LSTM(n_hidden))\n",
    "model4.add(Dropout(drop_out))\n",
    "model4.add(Dense(n_classes, activation='sigmoid'))\n",
    "model4.summary()"
   ]
  },
  {
   "cell_type": "code",
   "execution_count": 29,
   "metadata": {},
   "outputs": [
    {
     "name": "stdout",
     "output_type": "stream",
     "text": [
      "Train on 7352 samples, validate on 2947 samples\n",
      "Epoch 1/30\n",
      "7352/7352 [==============================] - 131s 18ms/step - loss: 1.4410 - acc: 0.4217 - val_loss: 1.1411 - val_acc: 0.4656\n",
      "Epoch 2/30\n",
      "7352/7352 [==============================] - 130s 18ms/step - loss: 1.0816 - acc: 0.5394 - val_loss: 0.9022 - val_acc: 0.5898\n",
      "Epoch 3/30\n",
      "7352/7352 [==============================] - 134s 18ms/step - loss: 0.9246 - acc: 0.5894 - val_loss: 0.8111 - val_acc: 0.6193\n",
      "Epoch 4/30\n",
      "7352/7352 [==============================] - 133s 18ms/step - loss: 0.8749 - acc: 0.6028 - val_loss: 0.8078 - val_acc: 0.6196\n",
      "Epoch 5/30\n",
      "7352/7352 [==============================] - 129s 18ms/step - loss: 0.8385 - acc: 0.6171 - val_loss: 0.7979 - val_acc: 0.6084\n",
      "Epoch 6/30\n",
      "7352/7352 [==============================] - 138s 19ms/step - loss: 0.8010 - acc: 0.6226 - val_loss: 0.7752 - val_acc: 0.6162\n",
      "Epoch 7/30\n",
      "7352/7352 [==============================] - 139s 19ms/step - loss: 0.7849 - acc: 0.6319 - val_loss: 0.7464 - val_acc: 0.6155\n",
      "Epoch 8/30\n",
      "7352/7352 [==============================] - 136s 19ms/step - loss: 0.7805 - acc: 0.6318 - val_loss: 0.7245 - val_acc: 0.6200\n",
      "Epoch 9/30\n",
      "7352/7352 [==============================] - 140s 19ms/step - loss: 0.7763 - acc: 0.6329 - val_loss: 0.7554 - val_acc: 0.6162\n",
      "Epoch 10/30\n",
      "7352/7352 [==============================] - 135s 18ms/step - loss: 0.7753 - acc: 0.6367 - val_loss: 0.7512 - val_acc: 0.6200\n",
      "Epoch 11/30\n",
      "7352/7352 [==============================] - 137s 19ms/step - loss: 0.7431 - acc: 0.6397 - val_loss: 0.7782 - val_acc: 0.6196\n",
      "Epoch 12/30\n",
      "7352/7352 [==============================] - 142s 19ms/step - loss: 0.7458 - acc: 0.6394 - val_loss: 0.7855 - val_acc: 0.6128\n",
      "Epoch 13/30\n",
      "7352/7352 [==============================] - 133s 18ms/step - loss: 0.7271 - acc: 0.6517 - val_loss: 0.8045 - val_acc: 0.6101\n",
      "Epoch 14/30\n",
      "7352/7352 [==============================] - 73s 10ms/step - loss: 0.7055 - acc: 0.6536 - val_loss: 0.6471 - val_acc: 0.6166\n",
      "Epoch 15/30\n",
      "7352/7352 [==============================] - 72s 10ms/step - loss: 0.6801 - acc: 0.6579 - val_loss: 0.6003 - val_acc: 0.6261\n",
      "Epoch 16/30\n",
      "7352/7352 [==============================] - 71s 10ms/step - loss: 0.6359 - acc: 0.6695 - val_loss: 0.6034 - val_acc: 0.6335\n",
      "Epoch 17/30\n",
      "7352/7352 [==============================] - 71s 10ms/step - loss: 0.6099 - acc: 0.6914 - val_loss: 0.6670 - val_acc: 0.6254\n",
      "Epoch 18/30\n",
      "7352/7352 [==============================] - 72s 10ms/step - loss: 0.5994 - acc: 0.6982 - val_loss: 0.6284 - val_acc: 0.6257\n",
      "Epoch 19/30\n",
      "7352/7352 [==============================] - 65s 9ms/step - loss: 0.5728 - acc: 0.7100 - val_loss: 0.6821 - val_acc: 0.7414\n",
      "Epoch 20/30\n",
      "7352/7352 [==============================] - 65s 9ms/step - loss: 0.5686 - acc: 0.7179 - val_loss: 0.5938 - val_acc: 0.7679\n",
      "Epoch 21/30\n",
      "7352/7352 [==============================] - 65s 9ms/step - loss: 0.5992 - acc: 0.7233 - val_loss: 1.2194 - val_acc: 0.7272\n",
      "Epoch 22/30\n",
      "7352/7352 [==============================] - 65s 9ms/step - loss: 0.5778 - acc: 0.7273 - val_loss: 0.8056 - val_acc: 0.7503\n",
      "Epoch 23/30\n",
      "7352/7352 [==============================] - 65s 9ms/step - loss: 0.5524 - acc: 0.7339 - val_loss: 0.5608 - val_acc: 0.7577\n",
      "Epoch 24/30\n",
      "7352/7352 [==============================] - 65s 9ms/step - loss: 0.5281 - acc: 0.7403 - val_loss: 0.5639 - val_acc: 0.7659\n",
      "Epoch 25/30\n",
      "7352/7352 [==============================] - 65s 9ms/step - loss: 0.5296 - acc: 0.7410 - val_loss: 0.5268 - val_acc: 0.7672\n",
      "Epoch 26/30\n",
      "7352/7352 [==============================] - 65s 9ms/step - loss: 0.5179 - acc: 0.7444 - val_loss: 0.5253 - val_acc: 0.7737\n",
      "Epoch 27/30\n",
      "7352/7352 [==============================] - 65s 9ms/step - loss: 0.5260 - acc: 0.7493 - val_loss: 0.5169 - val_acc: 0.7706\n",
      "Epoch 28/30\n",
      "7352/7352 [==============================] - 65s 9ms/step - loss: 0.4890 - acc: 0.7678 - val_loss: 0.5822 - val_acc: 0.7703\n",
      "Epoch 29/30\n",
      "7352/7352 [==============================] - 67s 9ms/step - loss: 0.5277 - acc: 0.7731 - val_loss: 0.6334 - val_acc: 0.7699\n",
      "Epoch 30/30\n",
      "7352/7352 [==============================] - 68s 9ms/step - loss: 0.4735 - acc: 0.7787 - val_loss: 0.5364 - val_acc: 0.7611\n"
     ]
    }
   ],
   "source": [
    "model4.compile(loss='categorical_crossentropy',optimizer='rmsprop',metrics=['accuracy'])\n",
    "history = model4.fit(X_train,Y_train,batch_size=batch_size,validation_data=(X_test, Y_test),epochs=epochs)"
   ]
  },
  {
   "cell_type": "code",
   "execution_count": 30,
   "metadata": {},
   "outputs": [
    {
     "name": "stdout",
     "output_type": "stream",
     "text": [
      "Pred                LAYING  SITTING  STANDING  WALKING  WALKING_UPSTAIRS\n",
      "True                                                                    \n",
      "LAYING                 537        0         0        0                 0\n",
      "SITTING                  9      430        50        2                 0\n",
      "STANDING                 0      141       390        1                 0\n",
      "WALKING                  1        0         0      467                28\n",
      "WALKING_DOWNSTAIRS       0        0         0        2               418\n",
      "WALKING_UPSTAIRS        11        1         0       40               419\n"
     ]
    }
   ],
   "source": [
    "print(confusion_matrix(Y_test, model4.predict(X_test)))"
   ]
  },
  {
   "cell_type": "code",
   "execution_count": 31,
   "metadata": {},
   "outputs": [
    {
     "name": "stdout",
     "output_type": "stream",
     "text": [
      "2947/2947 [==============================] - 3s 1ms/step\n",
      "Test score: 0.536436351557261\n",
      "Test accuracy: 0.7611129962673906\n"
     ]
    },
    {
     "data": {
      "image/png": "[encoded data removed]",
      "text/plain": [
       "<Figure size 432x288 with 1 Axes>"
      ]
     },
     "metadata": {},
     "output_type": "display_data"
    }
   ],
   "source": [
    "score4 = model4.evaluate(X_test, Y_test)\n",
    "\n",
    "print('Test score:', score4[0]) \n",
    "print('Test accuracy:', score4[1])\n",
    "\n",
    "fig,ax = plt.subplots(1,1)\n",
    "ax.set_xlabel('epoch')\n",
    "ax.set_ylabel('Categorical Crossentropy Loss')\n",
    "\n",
    "x = list(range(1,epochs+1))\n",
    "vy = history.history['val_loss']\n",
    "ty = history.history['loss']\n",
    "\n",
    "plt_dynamic(x, vy, ty, ax)"
   ]
  },
  {
   "cell_type": "markdown",
   "metadata": {},
   "source": [
    "# Hidden Layers = 64,Drop-out = 0.8"
   ]
  },
  {
   "cell_type": "code",
   "execution_count": 32,
   "metadata": {},
   "outputs": [
    {
     "name": "stdout",
     "output_type": "stream",
     "text": [
      "_________________________________________________________________\n",
      "Layer (type)                 Output Shape              Param #   \n",
      "=================================================================\n",
      "lstm_8 (LSTM)                (None, 128, 64)           18944     \n",
      "_________________________________________________________________\n",
      "dropout_8 (Dropout)          (None, 128, 64)           0         \n",
      "_________________________________________________________________\n",
      "lstm_9 (LSTM)                (None, 64)                33024     \n",
      "_________________________________________________________________\n",
      "dropout_9 (Dropout)          (None, 64)                0         \n",
      "_________________________________________________________________\n",
      "dense_5 (Dense)              (None, 6)                 390       \n",
      "=================================================================\n",
      "Total params: 52,358\n",
      "Trainable params: 52,358\n",
      "Non-trainable params: 0\n",
      "_________________________________________________________________\n"
     ]
    }
   ],
   "source": [
    "n_hidden = 64\n",
    "drop_out = 0.8\n",
    "model5 = Sequential()\n",
    "model5.add(LSTM(n_hidden,return_sequences=True,input_shape=(timesteps, input_dim)))\n",
    "model5.add(Dropout(drop_out))\n",
    "model5.add(LSTM(n_hidden))\n",
    "model5.add(Dropout(drop_out))\n",
    "model5.add(Dense(n_classes, activation='sigmoid'))\n",
    "model5.summary()"
   ]
  },
  {
   "cell_type": "code",
   "execution_count": 33,
   "metadata": {},
   "outputs": [
    {
     "name": "stdout",
     "output_type": "stream",
     "text": [
      "Train on 7352 samples, validate on 2947 samples\n",
      "Epoch 1/30\n",
      "7352/7352 [==============================] - 92s 13ms/step - loss: 1.2349 - acc: 0.4819 - val_loss: 0.8841 - val_acc: 0.5643\n",
      "Epoch 2/30\n",
      "7352/7352 [==============================] - 88s 12ms/step - loss: 0.8676 - acc: 0.6099 - val_loss: 0.8622 - val_acc: 0.5830\n",
      "Epoch 3/30\n",
      "7352/7352 [==============================] - 98s 13ms/step - loss: 0.8102 - acc: 0.6296 - val_loss: 0.8227 - val_acc: 0.6023 - loss: 0.8111 - acc: 0.6\n",
      "Epoch 4/30\n",
      "7352/7352 [==============================] - 95s 13ms/step - loss: 0.6975 - acc: 0.6737 - val_loss: 0.7357 - val_acc: 0.6230\n",
      "Epoch 5/30\n",
      "7352/7352 [==============================] - 102s 14ms/step - loss: 0.6466 - acc: 0.6972 - val_loss: 0.6956 - val_acc: 0.7279\n",
      "Epoch 6/30\n",
      "7352/7352 [==============================] - 91s 12ms/step - loss: 0.6378 - acc: 0.7223 - val_loss: 0.6277 - val_acc: 0.7336\n",
      "Epoch 7/30\n",
      "7352/7352 [==============================] - 93s 13ms/step - loss: 0.5218 - acc: 0.7764 - val_loss: 0.5251 - val_acc: 0.7574\n",
      "Epoch 8/30\n",
      "7352/7352 [==============================] - 91s 12ms/step - loss: 0.4651 - acc: 0.7824 - val_loss: 0.6482 - val_acc: 0.7452\n",
      "Epoch 9/30\n",
      "7352/7352 [==============================] - 101s 14ms/step - loss: 0.4685 - acc: 0.7893 - val_loss: 0.5819 - val_acc: 0.7411s - loss: \n",
      "Epoch 10/30\n",
      "7352/7352 [==============================] - 90s 12ms/step - loss: 0.4139 - acc: 0.8137 - val_loss: 0.4824 - val_acc: 0.8487\n",
      "Epoch 11/30\n",
      "7352/7352 [==============================] - 93s 13ms/step - loss: 0.3956 - acc: 0.8610 - val_loss: 0.3859 - val_acc: 0.8605\n",
      "Epoch 12/30\n",
      "7352/7352 [==============================] - 157s 21ms/step - loss: 0.3221 - acc: 0.9071 - val_loss: 0.5192 - val_acc: 0.8649\n",
      "Epoch 13/30\n",
      "7352/7352 [==============================] - 169s 23ms/step - loss: 0.2891 - acc: 0.9200 - val_loss: 0.4769 - val_acc: 0.8643\n",
      "Epoch 14/30\n",
      "7352/7352 [==============================] - 172s 23ms/step - loss: 0.2329 - acc: 0.9313 - val_loss: 0.4497 - val_acc: 0.8948\n",
      "Epoch 15/30\n",
      "7352/7352 [==============================] - 170s 23ms/step - loss: 0.2402 - acc: 0.9289 - val_loss: 0.4965 - val_acc: 0.8904\n",
      "Epoch 16/30\n",
      "7352/7352 [==============================] - 171s 23ms/step - loss: 0.2317 - acc: 0.9344 - val_loss: 0.2846 - val_acc: 0.9077\n",
      "Epoch 17/30\n",
      "7352/7352 [==============================] - 169s 23ms/step - loss: 0.2374 - acc: 0.9306 - val_loss: 0.4899 - val_acc: 0.8958\n",
      "Epoch 18/30\n",
      "7352/7352 [==============================] - 173s 24ms/step - loss: 0.2277 - acc: 0.9329 - val_loss: 0.4238 - val_acc: 0.9077\n",
      "Epoch 19/30\n",
      "7352/7352 [==============================] - 172s 23ms/step - loss: 0.1975 - acc: 0.9382 - val_loss: 0.4375 - val_acc: 0.9016\n",
      "Epoch 20/30\n",
      "7352/7352 [==============================] - 168s 23ms/step - loss: 0.1949 - acc: 0.9380 - val_loss: 0.5025 - val_acc: 0.9060\n",
      "Epoch 21/30\n",
      "7352/7352 [==============================] - 168s 23ms/step - loss: 0.1839 - acc: 0.9414 - val_loss: 0.5706 - val_acc: 0.9070\n",
      "Epoch 22/30\n",
      "7352/7352 [==============================] - 169s 23ms/step - loss: 0.2133 - acc: 0.9374 - val_loss: 0.4284 - val_acc: 0.9118\n",
      "Epoch 23/30\n",
      "7352/7352 [==============================] - 173s 23ms/step - loss: 0.1853 - acc: 0.9393 - val_loss: 0.4336 - val_acc: 0.9046\n",
      "Epoch 24/30\n",
      "7352/7352 [==============================] - 178s 24ms/step - loss: 0.2485 - acc: 0.9221 - val_loss: 0.3684 - val_acc: 0.9128\n",
      "Epoch 25/30\n",
      "7352/7352 [==============================] - 176s 24ms/step - loss: 0.1761 - acc: 0.9427 - val_loss: 0.5995 - val_acc: 0.9002\n",
      "Epoch 26/30\n",
      "7352/7352 [==============================] - 177s 24ms/step - loss: 0.2156 - acc: 0.9373 - val_loss: 0.4492 - val_acc: 0.9264\n",
      "Epoch 27/30\n",
      "7352/7352 [==============================] - 169s 23ms/step - loss: 0.1926 - acc: 0.9395 - val_loss: 0.5274 - val_acc: 0.9169\n",
      "Epoch 28/30\n",
      "7352/7352 [==============================] - 166s 23ms/step - loss: 0.1738 - acc: 0.9403 - val_loss: 0.5740 - val_acc: 0.9013\n",
      "Epoch 29/30\n",
      "7352/7352 [==============================] - 167s 23ms/step - loss: 0.1919 - acc: 0.9376 - val_loss: 0.7271 - val_acc: 0.8880\n",
      "Epoch 30/30\n",
      "7352/7352 [==============================] - 161s 22ms/step - loss: 0.1727 - acc: 0.9440 - val_loss: 0.4763 - val_acc: 0.9063\n"
     ]
    }
   ],
   "source": [
    "model5.compile(loss='categorical_crossentropy',optimizer='rmsprop',metrics=['accuracy'])\n",
    "history = model5.fit(X_train,Y_train,batch_size=batch_size,validation_data=(X_test, Y_test),epochs=epochs)"
   ]
  },
  {
   "cell_type": "code",
   "execution_count": 34,
   "metadata": {},
   "outputs": [
    {
     "name": "stdout",
     "output_type": "stream",
     "text": [
      "Pred                LAYING  SITTING  STANDING  WALKING  WALKING_DOWNSTAIRS  \\\n",
      "True                                                                         \n",
      "LAYING                 521        0        16        0                   0   \n",
      "SITTING                  6      375        91        1                   0   \n",
      "STANDING                 0       77       455        0                   0   \n",
      "WALKING                  0        0         0      473                  14   \n",
      "WALKING_DOWNSTAIRS       3        0         0        0                 411   \n",
      "WALKING_UPSTAIRS         5        5         1        5                  19   \n",
      "\n",
      "Pred                WALKING_UPSTAIRS  \n",
      "True                                  \n",
      "LAYING                             0  \n",
      "SITTING                           18  \n",
      "STANDING                           0  \n",
      "WALKING                            9  \n",
      "WALKING_DOWNSTAIRS                 6  \n",
      "WALKING_UPSTAIRS                 436  \n"
     ]
    }
   ],
   "source": [
    "print(confusion_matrix(Y_test, model5.predict(X_test)))"
   ]
  },
  {
   "cell_type": "code",
   "execution_count": 35,
   "metadata": {},
   "outputs": [
    {
     "name": "stdout",
     "output_type": "stream",
     "text": [
      "2947/2947 [==============================] - 10s 3ms/step\n",
      "Test score: 0.47634486136884424\n",
      "Test accuracy: 0.9063454360366474\n"
     ]
    },
    {
     "data": {
      "image/png": "[encoded data removed]",
      "text/plain": [
       "<Figure size 432x288 with 1 Axes>"
      ]
     },
     "metadata": {},
     "output_type": "display_data"
    }
   ],
   "source": [
    "score5 = model5.evaluate(X_test, Y_test)\n",
    "\n",
    "print('Test score:', score5[0]) \n",
    "print('Test accuracy:', score5[1])\n",
    "\n",
    "fig,ax = plt.subplots(1,1)\n",
    "ax.set_xlabel('epoch')\n",
    "ax.set_ylabel('Categorical Crossentropy Loss')\n",
    "\n",
    "x = list(range(1,epochs+1))\n",
    "vy = history.history['val_loss']\n",
    "ty = history.history['loss']\n",
    "\n",
    "plt_dynamic(x, vy, ty, ax)"
   ]
  },
  {
   "cell_type": "markdown",
   "metadata": {},
   "source": [
    "# Summary:"
   ]
  },
  {
   "cell_type": "markdown",
   "metadata": {},
   "source": [
    "1. Data Pre-processing :For each window we have 561 features which on signal processed each window gives 128 time-steps.And at every time-step we have 9 time-series readings.Three gyroscope time-series data,three accelerometer time-series data for body and total accelerometer time-series data.\n",
    "2. Load Data : taking all these values and get train and test to model.\n",
    "3. Initialising : random seed,epochs,hidden Layer,drop-out\n",
    "4. Import : Keras,Tensor Flow,Sequential,LSTM\n",
    "5. Input data : (7352*128*9);128 time steps,at every time step we have 9 time-series reading and 7352 time-series data(overlapped windows).\n",
    "6. Training a model : Since the data input is very less,it is easy for the model to overfit if our model is complexly built.Hence choosing a simple LSTM architecture.\n",
    "7. I have trained 5 models with different hidden and drop out values.The summary of the output is shown below."
   ]
  },
  {
   "cell_type": "markdown",
   "metadata": {},
   "source": [
    "# Conclusion:"
   ]
  },
  {
   "cell_type": "code",
   "execution_count": 36,
   "metadata": {},
   "outputs": [
    {
     "name": "stdout",
     "output_type": "stream",
     "text": [
      "+--------------------+---------+---------------+-------------------------------------------+\n",
      "|       Model        | Nuerons | Drop-out rate |                   score                   |\n",
      "+--------------------+---------+---------------+-------------------------------------------+\n",
      "| LSTM(Single Layer) |    32   |      0.6      | [0.48826993001486146, 0.8829317950458093] |\n",
      "| LSTM(Double Layer) |    32   |      0.6      |  [0.520119141131976, 0.8880217170003394]  |\n",
      "| LSTM(Double Layer) |    64   |      0.6      |  [0.3858033237633154, 0.9284017645062775] |\n",
      "| LSTM(Double Layer) |    32   |      0.8      |  [0.6408101797361757, 0.7441465897522904] |\n",
      "| LSTM(Double Layer) |    64   |      0.8      |  [0.5258364012132946, 0.9026128266033254] |\n",
      "+--------------------+---------+---------------+-------------------------------------------+\n"
     ]
    }
   ],
   "source": [
    "from prettytable import PrettyTable\n",
    "    \n",
    "Table = PrettyTable()\n",
    "\n",
    "Table.field_names  = [\"Model\", \"Nuerons\", \"Drop-out rate\", \"score\"]\n",
    "\n",
    "Table.add_row([\"LSTM(Single Layer)\", 32, 0.6,score1])\n",
    "Table.add_row([\"LSTM(Double Layer)\", 32,0.6, score2])\n",
    "Table.add_row([\"LSTM(Double Layer)\", 64, 0.6,score3])\n",
    "Table.add_row([\"LSTM(Double Layer)\", 32, 0.8,score4])\n",
    "Table.add_row([\"LSTM(Double Layer)\", 64, 0.8,score5])\n",
    "\n",
    "print(Table)"
   ]
  }
 ],
 "metadata": {
  "kernelspec": {
   "display_name": "Python 3",
   "language": "python",
   "name": "python3"
  },
  "language_info": {
   "codemirror_mode": {
    "name": "ipython",
    "version": 3
   },
   "file_extension": ".py",
   "mimetype": "text/x-python",
   "name": "python",
   "nbconvert_exporter": "python",
   "pygments_lexer": "ipython3",
   "version": "3.6.5"
  }
 },
 "nbformat": 4,
 "nbformat_minor": 2
}
